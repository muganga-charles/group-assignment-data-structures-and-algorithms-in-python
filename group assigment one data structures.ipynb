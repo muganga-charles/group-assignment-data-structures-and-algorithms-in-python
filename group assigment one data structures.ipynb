{
 "cells": [
  {
   "cell_type": "code",
   "execution_count": null,
   "metadata": {},
   "outputs": [],
   "source": [
    "#comparison of three numbers\n",
    "number1=int(input(\"enter the first number\"))#number1 variable entry from user\n",
    "number2=int(input(\"enter the second number\"))#number2 variable entry from user\n",
    "number3=int(input(\"Enter the third number\"))#number3 variable entry from user\n",
    "if number1>number2:#comparison of number1 and number2\n",
    "    if number1>number3:#comparison of number1 and number3 nested in number1>number2\n",
    "        print(number1,\"is greatest\")#prints number first greatest\n",
    "    else:\n",
    "        print(number3,\"is greatest\")#pints number third greatest\n",
    "else:\n",
    "    if number2>number3:\n",
    "        print(number2,\"is greatest\")#prints second number greatest\n",
    "    else:\n",
    "        print(number3,\"is greatest\")#prints third number greatest"
   ]
  },
  {
   "cell_type": "code",
   "execution_count": null,
   "metadata": {},
   "outputs": [],
   "source": [
    "#number one //comparison of two number\n",
    "number1=int(input(\"enter the first number\"))#allows entry of the first number by the user\n",
    "number2=int(input(\"enter the second number\"))#allows entry of the second number by the user\n",
    "if number1>number2:#checks wheather the first number is greater than the second number\n",
    "    print(number1,\"is greater than\",number2)\n",
    "elif number1<number2:#checks wheather the second number is greater than the first number\n",
    "    print(number1,\"is less than\",number2)\n",
    "else:#tells that the numbers are equal\n",
    "    print(number1,\"is equal to\",number2)"
   ]
  },
  {
   "cell_type": "code",
   "execution_count": null,
   "metadata": {},
   "outputs": [],
   "source": [
    "#number three //comparison of  number\n",
    "from array import *\n",
    "numbers=array(\"i\",[])#creates the array to store the values\n",
    "size = int(input(\"please enter a number greater or equal to 10\"))#defines the size of the array/number of integers to be entered\n",
    "while size<10:\n",
    "    size = int(input(\"please enter a number greater or equal to 10\"))\n",
    "for i in range(0,size):\n",
    "    number=int(input(\"enter the number \"+str(i+1)+\"\"))#allows the entry of the elements in the array\n",
    "    numbers.append(number)#adds the enterd element at the end of the array\n",
    "numbers=sorted(numbers)#sorts the array\n",
    "print(numbers)#prints all the elements in the array \n",
    "print(\"greatest  of three number is \",numbers[size-1])#shows the greatest number in the array"
   ]
  }
 ],
 "metadata": {
  "language_info": {
   "name": "python"
  },
  "orig_nbformat": 4
 },
 "nbformat": 4,
 "nbformat_minor": 2
}
